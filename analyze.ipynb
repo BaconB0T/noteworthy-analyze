{
 "cells": [
  {
   "cell_type": "code",
   "execution_count": null,
   "metadata": {},
   "outputs": [],
   "source": [
    "import pandas as pd\n",
    "import plotly.express as px"
   ]
  },
  {
   "cell_type": "code",
   "execution_count": null,
   "metadata": {},
   "outputs": [],
   "source": [
    "df_orig = pd.read_csv('./servey-1.csv')"
   ]
  },
  {
   "cell_type": "code",
   "execution_count": null,
   "metadata": {},
   "outputs": [],
   "source": [
    "df_orig.info()"
   ]
  },
  {
   "cell_type": "code",
   "execution_count": null,
   "metadata": {},
   "outputs": [],
   "source": [
    "def pipe_rename(df: pd.DataFrame) -> pd.DataFrame:\n",
    "    labels = {\n",
    "        \"Are you a student?\": \"education_level\",\n",
    "        \"What's the name of your school? (Ex. University of Maryland)\": \"school_name\",\n",
    "        \"How many teachers / professors do you have?\": \"num_professors\",\n",
    "        \"How many of your teachers / professors record their lectures for students?\": \"num_professors_record\",\n",
    "        \"For the professors who record lectures (if any), how often do they record?\": \"record_interval\",\n",
    "        \"How often do you use websites to speed up your work as a student (ex. easybib or sparknotes)?\": \"online_assistance_freq\",\n",
    "        \"(Optional) Do you have any diagnosed learning disabilities?\": \"has_disability\",\n",
    "        \"(Optional) Add any additional comments below.\": \"comments\"\n",
    "    }\n",
    "    return df.rename(mapper=labels, axis=1)\n",
    "\n",
    "def pipe_standard_schools(df: pd.DataFrame) -> pd.DataFrame:\n",
    "    df_c = df.copy(deep=True)\n",
    "    def fix_school_names(s: str) -> str:\n",
    "        if s.lower().strip() in ['gcc', 'grove city college', 'grove', 'grove city']:\n",
    "            return \"Grove City College\"\n",
    "        else:\n",
    "            return s.strip().title()\n",
    "    df_c['school_name'] = df_c['school_name'].apply(fix_school_names)\n",
    "    return df_c\n",
    "\n",
    "def pipe_professor_record(df: pd.DataFrame) -> pd.DataFrame:\n",
    "    df_c = df.copy(deep=True)\n",
    "    df_c['num_professors_record'] = df_c.apply(lambda x: x['num_professors'] if x['num_professors_record'] == \"All\" else x['num_professors_record'], axis=1)\n",
    "    df_c['num_professors_record'] = df_c['num_professors_record'].astype(float).fillna(0).astype(int)\n",
    "    return df_c\n",
    "\n",
    "def pipe_professor_record_ratio(df: pd.DataFrame) -> pd.DataFrame:\n",
    "    df_c = df.copy(deep=True)\n",
    "    df_c['professor_record_ratio'] = df_c['num_professors_record'] / df_c['num_professors']\n",
    "    return df_c\n",
    "\n",
    "def pipe_record_interval_ratio(df: pd.DataFrame) -> pd.DataFrame:\n",
    "    df_c = df.copy(deep=True)\n",
    "    df_c['record_interval'] = df_c['record_interval'].fillna(\"\")\n",
    "    likert_record_interval = [\n",
    "        None,\n",
    "        'Rarely',\n",
    "        'Always',\n",
    "        'Always',\n",
    "        'Sometimes',\n",
    "        'Always',\n",
    "        'Rarely',\n",
    "        'Always',\n",
    "        'Always',\n",
    "        None,\n",
    "        'Never',\n",
    "        'Rarely',\n",
    "        'Sometimes',\n",
    "        'Rarely',\n",
    "        'Rarely',\n",
    "        None,\n",
    "        'Rarely',\n",
    "        'Often',\n",
    "        'Always',\n",
    "        None,\n",
    "        None,\n",
    "        None,\n",
    "        None,\n",
    "        'Always',\n",
    "        None,\n",
    "        'Always',\n",
    "        'Always',\n",
    "        'Often',\n",
    "        'Rarely',\n",
    "        None,\n",
    "        None,\n",
    "        'Rarely',\n",
    "        'Rarely',\n",
    "        None,\n",
    "        None,\n",
    "        'Always',\n",
    "        'Sometimes',\n",
    "        'Rarely',\n",
    "        'Rarely',\n",
    "        None,\n",
    "        'Always'\n",
    "    ]\n",
    "    df_c['likert_record_interval'] = likert_record_interval\n",
    "    return df_c\n",
    "\n",
    "def fix_num_professors_record(df: pd.DataFrame) -> pd.DataFrame:\n",
    "    if 'professor_record_ratio' not in df.keys() or 'likert_record_interval' not in df.keys():\n",
    "        raise Exception(\"Missing required fields {}, {}\".format('professor_record_ratio', 'likert_record_interval'))\n",
    "    df_c = df.copy(deep=True)\n",
    "    # You can't have more professors recording lectures than you have professors.\n",
    "    def fix_num_professors_record(record: pd.Series) -> int:\n",
    "        if record['professor_record_ratio'] > 1:\n",
    "            if record['likert_record_interval'].lower() != 'never':\n",
    "                return record['num_professors'] \n",
    "            else:\n",
    "                return 0\n",
    "        else:\n",
    "            return record['num_professors_record']\n",
    "    df_c['num_professors_record'] = df_c.apply(fix_num_professors_record, axis=1)\n",
    "    return df_c"
   ]
  },
  {
   "cell_type": "code",
   "execution_count": null,
   "metadata": {},
   "outputs": [],
   "source": [
    "df_orig.info()"
   ]
  },
  {
   "cell_type": "code",
   "execution_count": null,
   "metadata": {},
   "outputs": [],
   "source": [
    "df = (\n",
    "    df_orig.pipe(pipe_rename)\n",
    "        .pipe(pipe_standard_schools)\n",
    "        .pipe(pipe_professor_record)\n",
    "        .pipe(pipe_record_interval_ratio)\n",
    "        .pipe(pipe_professor_record_ratio)\n",
    "        .pipe(fix_num_professors_record)\n",
    "        .pipe(pipe_professor_record_ratio)\n",
    ")\n",
    "df.info()"
   ]
  },
  {
   "cell_type": "code",
   "execution_count": null,
   "metadata": {},
   "outputs": [],
   "source": [
    "fig = px.pie(df, 'likert_record_interval', title=\"How often do professors record their lectures?\", hover_data=['likert_record_interval'])\n",
    "fig.update_traces(textposition='inside', textinfo='percent+label')\n",
    "fig.show()"
   ]
  },
  {
   "cell_type": "code",
   "execution_count": null,
   "metadata": {},
   "outputs": [],
   "source": [
    "px.histogram(df, x='school_name', title=\"School name\")"
   ]
  },
  {
   "cell_type": "code",
   "execution_count": null,
   "metadata": {},
   "outputs": [],
   "source": [
    "bins = [-1, 0, 0.20, 0.40, 0.6, 0.8, 1]\n",
    "labels = ['0%', '1%-20%', '20%-40%', '40%-60%', '60%-80%', '80%-100%']\n",
    "df['professor_record_bins'] = pd.cut(df['professor_record_ratio'], bins=bins, labels=labels)"
   ]
  },
  {
   "cell_type": "markdown",
   "metadata": {},
   "source": [
    "The below graph is based on the ratio of the number professors each student said recorded lectures divided by the number of professors each student said they had. \n",
    "Thus, if you have only one professor but they always record their lectures, your professor_record_ratio is 1.0 (or 100%). If you have 5 professors and 3 of them record, your ratio is 0.6."
   ]
  },
  {
   "cell_type": "code",
   "execution_count": null,
   "metadata": {},
   "outputs": [],
   "source": [
    "px.histogram(df, x='professor_record_bins', \n",
    "             title='Number of Students that Say X Percent of Their Professors Record', \n",
    "             labels={'professor_record_bins': 'Percent of professors that record lectures'}).update_xaxes(categoryorder='category ascending')"
   ]
  },
  {
   "cell_type": "code",
   "execution_count": null,
   "metadata": {},
   "outputs": [],
   "source": [
    "ppr = df['num_professors_record'].agg(sum) / df['num_professors'].agg(sum)\n",
    "print(f\"The percent of professors who record at all based on the survey is {ppr*100:0.4}%\")"
   ]
  },
  {
   "cell_type": "code",
   "execution_count": null,
   "metadata": {},
   "outputs": [],
   "source": []
  }
 ],
 "metadata": {
  "kernelspec": {
   "display_name": "noteworthy-analyze",
   "language": "python",
   "name": "python3"
  },
  "language_info": {
   "codemirror_mode": {
    "name": "ipython",
    "version": 3
   },
   "file_extension": ".py",
   "mimetype": "text/x-python",
   "name": "python",
   "nbconvert_exporter": "python",
   "pygments_lexer": "ipython3",
   "version": "3.10.12"
  },
  "orig_nbformat": 4
 },
 "nbformat": 4,
 "nbformat_minor": 2
}
